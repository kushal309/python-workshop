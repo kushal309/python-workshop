{
 "cells": [
  {
   "cell_type": "code",
   "execution_count": 1,
   "id": "e664605c",
   "metadata": {},
   "outputs": [],
   "source": [
    "# built in data types in python \n",
    "# tuple ()\n",
    "#list  []\n",
    "#sets  {}\n",
    "#dictionary {} "
   ]
  },
  {
   "cell_type": "code",
   "execution_count": 6,
   "id": "e7144352",
   "metadata": {},
   "outputs": [
    {
     "name": "stdout",
     "output_type": "stream",
     "text": [
      "<class 'tuple'>\n"
     ]
    }
   ],
   "source": [
    "# tuple \n",
    "fruits  = (\"mango\",\"apple\",\"lemon\",1) #\n",
    "print(type(fruits))\n"
   ]
  },
  {
   "cell_type": "code",
   "execution_count": 7,
   "id": "174662a3",
   "metadata": {},
   "outputs": [
    {
     "name": "stdout",
     "output_type": "stream",
     "text": [
      "<class 'list'>\n"
     ]
    }
   ],
   "source": [
    "#list \n",
    "fruits = [\"mango\",\"papaya\"]\n",
    "print(type(fruits))"
   ]
  },
  {
   "cell_type": "code",
   "execution_count": 10,
   "id": "f7eb0142",
   "metadata": {},
   "outputs": [
    {
     "name": "stdout",
     "output_type": "stream",
     "text": [
      "{1, 2, 3, 'apple'}\n"
     ]
    }
   ],
   "source": [
    "#set\n",
    "A = {1,2,3,1,1,\"apple\"}\n",
    "print(A)"
   ]
  },
  {
   "cell_type": "code",
   "execution_count": 11,
   "id": "912d86df",
   "metadata": {},
   "outputs": [
    {
     "name": "stdout",
     "output_type": "stream",
     "text": [
      "<class 'dict'>\n"
     ]
    }
   ],
   "source": [
    "#dictionary\n",
    "dict1 = {1:\"one\",2:\"two\"} # {'key':'values'}\n",
    "print(type(dict1))"
   ]
  },
  {
   "cell_type": "code",
   "execution_count": 12,
   "id": "614fe272",
   "metadata": {},
   "outputs": [],
   "source": [
    "#list funftionalities or methods \n",
    "\n",
    "# Accessing list items []\n",
    "#change values\n",
    "#Adding items append()\n",
    "#Remove pop(),remove()\n"
   ]
  },
  {
   "cell_type": "code",
   "execution_count": 13,
   "id": "0021f7c1",
   "metadata": {},
   "outputs": [
    {
     "name": "stdout",
     "output_type": "stream",
     "text": [
      "['ram', 'sita', 'hari', 'shyam']\n"
     ]
    }
   ],
   "source": [
    "A = [\"ram\",\"sita\",\"hari\",\"shyam\"]\n",
    "print(A)"
   ]
  },
  {
   "cell_type": "code",
   "execution_count": 14,
   "id": "d9201efd",
   "metadata": {},
   "outputs": [
    {
     "name": "stdout",
     "output_type": "stream",
     "text": [
      "['sita', 'hari']\n"
     ]
    }
   ],
   "source": [
    "print(A[1:3])"
   ]
  },
  {
   "cell_type": "code",
   "execution_count": 20,
   "id": "b190fbe3",
   "metadata": {},
   "outputs": [
    {
     "name": "stdout",
     "output_type": "stream",
     "text": [
      "shyam\n"
     ]
    }
   ],
   "source": [
    "print(A[-1]) # gives last postion item"
   ]
  },
  {
   "cell_type": "code",
   "execution_count": 21,
   "id": "8097bc03",
   "metadata": {},
   "outputs": [
    {
     "name": "stdout",
     "output_type": "stream",
     "text": [
      "4\n"
     ]
    }
   ],
   "source": [
    "print(len(A))"
   ]
  },
  {
   "cell_type": "code",
   "execution_count": 24,
   "id": "6184a366",
   "metadata": {},
   "outputs": [
    {
     "name": "stdout",
     "output_type": "stream",
     "text": [
      "['kushal', 'sita', 'hari', 'smarika']\n"
     ]
    }
   ],
   "source": [
    "A[0]=\"kushal\"\n",
    "A[-1] =\"smarika\"\n",
    "print(A)"
   ]
  },
  {
   "cell_type": "code",
   "execution_count": 25,
   "id": "1a1f3868",
   "metadata": {},
   "outputs": [],
   "source": [
    "A.append(\"sandesh\")"
   ]
  },
  {
   "cell_type": "code",
   "execution_count": 26,
   "id": "db8a3b01",
   "metadata": {},
   "outputs": [
    {
     "name": "stdout",
     "output_type": "stream",
     "text": [
      "['kushal', 'sita', 'hari', 'smarika', 'sandesh']\n"
     ]
    }
   ],
   "source": [
    "print(A)"
   ]
  },
  {
   "cell_type": "code",
   "execution_count": 31,
   "id": "2a9f2c98",
   "metadata": {},
   "outputs": [
    {
     "name": "stdout",
     "output_type": "stream",
     "text": [
      "['kushal', 'cat', 'dog', 'dog', 'dog', 'sita', 'hari', 'smarika', 'sandesh']\n"
     ]
    }
   ],
   "source": [
    "A.insert(1,\"cat\")\n",
    "print(A)"
   ]
  },
  {
   "cell_type": "code",
   "execution_count": 36,
   "id": "6452fc8f",
   "metadata": {},
   "outputs": [
    {
     "name": "stdout",
     "output_type": "stream",
     "text": [
      "['cat', 'sita', 'hari', 'smarika', 'sandesh']\n"
     ]
    }
   ],
   "source": [
    "A.remove(\"kushal\")\n",
    "print(A)"
   ]
  },
  {
   "cell_type": "code",
   "execution_count": 39,
   "id": "efcff026",
   "metadata": {},
   "outputs": [
    {
     "data": {
      "text/plain": [
       "'sandesh'"
      ]
     },
     "execution_count": 39,
     "metadata": {},
     "output_type": "execute_result"
    }
   ],
   "source": [
    "#pop()\n",
    "A.pop(-1)"
   ]
  },
  {
   "cell_type": "code",
   "execution_count": 40,
   "id": "76391dba",
   "metadata": {},
   "outputs": [
    {
     "name": "stdout",
     "output_type": "stream",
     "text": [
      "['rat', 'hari', 'smarika']\n"
     ]
    }
   ],
   "source": [
    "A[0]=\"rat\"\n",
    "print(A)"
   ]
  },
  {
   "cell_type": "code",
   "execution_count": 47,
   "id": "96c57fda",
   "metadata": {},
   "outputs": [
    {
     "name": "stdout",
     "output_type": "stream",
     "text": [
      "4\n"
     ]
    }
   ],
   "source": [
    "#tuple \n",
    "B = (\"apple\",\"ball\",\"cat\",\"dog\")\n",
    "print(len(B))"
   ]
  },
  {
   "cell_type": "code",
   "execution_count": 51,
   "id": "558521b0",
   "metadata": {},
   "outputs": [
    {
     "name": "stdout",
     "output_type": "stream",
     "text": [
      "<class 'tuple'>\n"
     ]
    }
   ],
   "source": [
    "C =tuple((\"cat\")) # or you can use C=(\"cat\",) -> use comma after\n",
    "print(type(C))"
   ]
  },
  {
   "cell_type": "code",
   "execution_count": null,
   "id": "729a3a0a",
   "metadata": {},
   "outputs": [],
   "source": []
  }
 ],
 "metadata": {
  "kernelspec": {
   "display_name": "Python 3 (ipykernel)",
   "language": "python",
   "name": "python3"
  },
  "language_info": {
   "codemirror_mode": {
    "name": "ipython",
    "version": 3
   },
   "file_extension": ".py",
   "mimetype": "text/x-python",
   "name": "python",
   "nbconvert_exporter": "python",
   "pygments_lexer": "ipython3",
   "version": "3.8.10"
  }
 },
 "nbformat": 4,
 "nbformat_minor": 5
}
