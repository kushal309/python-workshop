{
 "cells": [
  {
   "cell_type": "code",
   "execution_count": 1,
   "id": "e664605c",
   "metadata": {},
   "outputs": [],
   "source": [
    "# built in data types in python \n",
    "# tuple ()\n",
    "#list  []\n",
    "#sets  {}\n",
    "#dictionary {} "
   ]
  },
  {
   "cell_type": "code",
   "execution_count": 6,
   "id": "e7144352",
   "metadata": {},
   "outputs": [
    {
     "name": "stdout",
     "output_type": "stream",
     "text": [
      "<class 'tuple'>\n"
     ]
    }
   ],
   "source": [
    "# tuple \n",
    "fruits  = (\"mango\",\"apple\",\"lemon\",1) #\n",
    "print(type(fruits))\n"
   ]
  },
  {
   "cell_type": "code",
   "execution_count": 7,
   "id": "174662a3",
   "metadata": {},
   "outputs": [
    {
     "name": "stdout",
     "output_type": "stream",
     "text": [
      "<class 'list'>\n"
     ]
    }
   ],
   "source": [
    "#list \n",
    "fruits = [\"mango\",\"papaya\"]\n",
    "print(type(fruits))"
   ]
  },
  {
   "cell_type": "code",
   "execution_count": 10,
   "id": "f7eb0142",
   "metadata": {},
   "outputs": [
    {
     "name": "stdout",
     "output_type": "stream",
     "text": [
      "{1, 2, 3, 'apple'}\n"
     ]
    }
   ],
   "source": [
    "#set\n",
    "A = {1,2,3,1,1,\"apple\"}\n",
    "print(A)"
   ]
  },
  {
   "cell_type": "code",
   "execution_count": 11,
   "id": "912d86df",
   "metadata": {},
   "outputs": [
    {
     "name": "stdout",
     "output_type": "stream",
     "text": [
      "<class 'dict'>\n"
     ]
    }
   ],
   "source": [
    "#dictionary\n",
    "dict1 = {1:\"one\",2:\"two\"} # {'key':'values'}\n",
    "print(type(dict1))"
   ]
  },
  {
   "cell_type": "code",
   "execution_count": 12,
   "id": "614fe272",
   "metadata": {},
   "outputs": [],
   "source": [
    "#list funftionalities or methods \n",
    "\n",
    "# Accessing list items []\n",
    "#change values\n",
    "#Adding items append()\n",
    "#Remove pop(),remove()\n"
   ]
  },
  {
   "cell_type": "code",
   "execution_count": 13,
   "id": "0021f7c1",
   "metadata": {},
   "outputs": [
    {
     "name": "stdout",
     "output_type": "stream",
     "text": [
      "['ram', 'sita', 'hari', 'shyam']\n"
     ]
    }
   ],
   "source": [
    "A = [\"ram\",\"sita\",\"hari\",\"shyam\"]\n",
    "print(A)"
   ]
  },
  {
   "cell_type": "code",
   "execution_count": 14,
   "id": "d9201efd",
   "metadata": {},
   "outputs": [
    {
     "name": "stdout",
     "output_type": "stream",
     "text": [
      "['sita', 'hari']\n"
     ]
    }
   ],
   "source": [
    "print(A[1:3])"
   ]
  },
  {
   "cell_type": "code",
   "execution_count": 20,
   "id": "b190fbe3",
   "metadata": {},
   "outputs": [
    {
     "name": "stdout",
     "output_type": "stream",
     "text": [
      "shyam\n"
     ]
    }
   ],
   "source": [
    "print(A[-1]) # gives last postion item"
   ]
  },
  {
   "cell_type": "code",
   "execution_count": 21,
   "id": "8097bc03",
   "metadata": {},
   "outputs": [
    {
     "name": "stdout",
     "output_type": "stream",
     "text": [
      "4\n"
     ]
    }
   ],
   "source": [
    "print(len(A))"
   ]
  },
  {
   "cell_type": "code",
   "execution_count": 24,
   "id": "6184a366",
   "metadata": {},
   "outputs": [
    {
     "name": "stdout",
     "output_type": "stream",
     "text": [
      "['kushal', 'sita', 'hari', 'smarika']\n"
     ]
    }
   ],
   "source": [
    "A[0]=\"kushal\"\n",
    "A[-1] =\"smarika\"\n",
    "print(A)"
   ]
  },
  {
   "cell_type": "code",
   "execution_count": 25,
   "id": "1a1f3868",
   "metadata": {},
   "outputs": [],
   "source": [
    "A.append(\"sandesh\")"
   ]
  },
  {
   "cell_type": "code",
   "execution_count": 26,
   "id": "db8a3b01",
   "metadata": {},
   "outputs": [
    {
     "name": "stdout",
     "output_type": "stream",
     "text": [
      "['kushal', 'sita', 'hari', 'smarika', 'sandesh']\n"
     ]
    }
   ],
   "source": [
    "print(A)"
   ]
  },
  {
   "cell_type": "code",
   "execution_count": 31,
   "id": "2a9f2c98",
   "metadata": {},
   "outputs": [
    {
     "name": "stdout",
     "output_type": "stream",
     "text": [
      "['kushal', 'cat', 'dog', 'dog', 'dog', 'sita', 'hari', 'smarika', 'sandesh']\n"
     ]
    }
   ],
   "source": [
    "A.insert(1,\"cat\")\n",
    "print(A)"
   ]
  },
  {
   "cell_type": "code",
   "execution_count": 36,
   "id": "6452fc8f",
   "metadata": {},
   "outputs": [
    {
     "name": "stdout",
     "output_type": "stream",
     "text": [
      "['cat', 'sita', 'hari', 'smarika', 'sandesh']\n"
     ]
    }
   ],
   "source": [
    "A.remove(\"kushal\")\n",
    "print(A)"
   ]
  },
  {
   "cell_type": "code",
   "execution_count": 39,
   "id": "efcff026",
   "metadata": {},
   "outputs": [
    {
     "data": {
      "text/plain": [
       "'sandesh'"
      ]
     },
     "execution_count": 39,
     "metadata": {},
     "output_type": "execute_result"
    }
   ],
   "source": [
    "#pop()\n",
    "A.pop(-1)"
   ]
  },
  {
   "cell_type": "code",
   "execution_count": 40,
   "id": "76391dba",
   "metadata": {},
   "outputs": [
    {
     "name": "stdout",
     "output_type": "stream",
     "text": [
      "['rat', 'hari', 'smarika']\n"
     ]
    }
   ],
   "source": [
    "A[0]=\"rat\"\n",
    "print(A)"
   ]
  },
  {
   "cell_type": "code",
   "execution_count": 47,
   "id": "96c57fda",
   "metadata": {},
   "outputs": [
    {
     "name": "stdout",
     "output_type": "stream",
     "text": [
      "4\n"
     ]
    }
   ],
   "source": [
    "#tuple \n",
    "B = (\"apple\",\"ball\",\"cat\",\"dog\")\n",
    "print(len(B))"
   ]
  },
  {
   "cell_type": "code",
   "execution_count": 11,
   "id": "558521b0",
   "metadata": {},
   "outputs": [
    {
     "name": "stdout",
     "output_type": "stream",
     "text": [
      "<class 'tuple'>\n"
     ]
    }
   ],
   "source": [
    "C =(\"cat\",) # or you can use C=(\"cat\",) -> use comma after\n",
    "print(type(C))\n",
    "\n",
    "\n",
    "\n"
   ]
  },
  {
   "cell_type": "markdown",
   "id": "6234fb60",
   "metadata": {},
   "source": [
    "# 1) continue of list,tuple,dictionary,set \n",
    "\n",
    "    #set\n",
    "    -- accessing set item print('x' in this set)\n",
    "    -- adding set item set.add('x')\n",
    "    -- removing set item set.remove('X')\n",
    "    -- removing by discard set.discard('x')\n",
    "    #dictionary\n",
    "     -- creating dictionary\n",
    "     -- accessing item dict.get('key')\n",
    "     -- keys and values -> dict.keys() , dict.values()\n",
    "     -- updating items dict.update({\"key\": \"value\"})\n",
    "     -- adding item dict['key']='value'\n",
    "     -- deleting item -> del dict ['key']\n",
    "     -- deleting dict -> del dict\n",
    "\n"
   ]
  },
  {
   "cell_type": "code",
   "execution_count": 15,
   "id": "5250a632",
   "metadata": {},
   "outputs": [],
   "source": [
    "A  = {\"apple\",\"ball\",\"cat\",\"dog\",\"egg\"}\n",
    "A.add(\"Fox\")\n"
   ]
  },
  {
   "cell_type": "code",
   "execution_count": 27,
   "id": "9cf7a970",
   "metadata": {},
   "outputs": [
    {
     "name": "stdout",
     "output_type": "stream",
     "text": [
      "{'name': 'kushal', 'age': 21, 'fav_food': 'Momo'}\n"
     ]
    }
   ],
   "source": [
    "person = {\"name\":\"kushal\",\"age\":21,\"fav_food\":\"Momo\"} # {key:values}\n",
    "print(person)"
   ]
  },
  {
   "cell_type": "code",
   "execution_count": 29,
   "id": "c220d9fc",
   "metadata": {},
   "outputs": [
    {
     "data": {
      "text/plain": [
       "dict_values(['kushal', 21, 'Momo'])"
      ]
     },
     "execution_count": 29,
     "metadata": {},
     "output_type": "execute_result"
    }
   ],
   "source": [
    "person.keys()\n",
    "person.values()"
   ]
  },
  {
   "cell_type": "code",
   "execution_count": 31,
   "id": "e9c6b2a3",
   "metadata": {},
   "outputs": [
    {
     "name": "stdout",
     "output_type": "stream",
     "text": [
      "{'name': 'kushal', 'age': 22, 'fav_food': 'Momo'}\n"
     ]
    }
   ],
   "source": [
    "person.update({\"age\":22})\n",
    "print(person)"
   ]
  },
  {
   "cell_type": "code",
   "execution_count": 42,
   "id": "cf87f81b",
   "metadata": {},
   "outputs": [],
   "source": [
    "age=22\n",
    "name =\"kushal\"\n",
    "\n",
    "#person name is kushal and his age is 22\n"
   ]
  },
  {
   "cell_type": "code",
   "execution_count": 45,
   "id": "24ce9aa2",
   "metadata": {},
   "outputs": [
    {
     "name": "stdout",
     "output_type": "stream",
     "text": [
      "person name is kushal and his age is 22\n"
     ]
    }
   ],
   "source": [
    "print(f\"person name is {name} and his age is {age}\") \n"
   ]
  },
  {
   "cell_type": "code",
   "execution_count": null,
   "id": "902045fe",
   "metadata": {},
   "outputs": [],
   "source": [
    "# if else in python"
   ]
  },
  {
   "cell_type": "code",
   "execution_count": 51,
   "id": "d39ddbb2",
   "metadata": {},
   "outputs": [
    {
     "name": "stdout",
     "output_type": "stream",
     "text": [
      "a is positive\n"
     ]
    }
   ],
   "source": [
    "a=2\n",
    "if a>0 :\n",
    "    print(\"a is positive\")\n",
    "else:\n",
    "    print(\"a is negative\")"
   ]
  },
  {
   "cell_type": "code",
   "execution_count": 53,
   "id": "13d6b86b",
   "metadata": {},
   "outputs": [
    {
     "name": "stdout",
     "output_type": "stream",
     "text": [
      "Enter any number5\n",
      "5 is odd \n"
     ]
    }
   ],
   "source": [
    "num = int(input(\"Enter any number\"))\n",
    "if (num % 2)==0:\n",
    "    print(f\"{num} is even\")\n",
    "else:\n",
    "    print(f\"{num} is odd \")"
   ]
  },
  {
   "cell_type": "code",
   "execution_count": 58,
   "id": "4b2fd521",
   "metadata": {
    "scrolled": true
   },
   "outputs": [
    {
     "name": "stdout",
     "output_type": "stream",
     "text": [
      "Enter any number:8\n",
      "8 is positive number \n"
     ]
    }
   ],
   "source": [
    "# 0 , positive , negative \n",
    "num1 = int(input(\"Enter any number:\"))\n",
    "if num1<0:\n",
    "    print(f\"{num1} is negative\")\n",
    "elif num1==0:\n",
    "    print(\"Zero\")\n",
    "else:\n",
    "    print(f\"{num1} is positive number \")"
   ]
  },
  {
   "cell_type": "markdown",
   "id": "6898bcee",
   "metadata": {},
   "source": []
  },
  {
   "cell_type": "code",
   "execution_count": 62,
   "id": "b03ee7b3",
   "metadata": {
    "scrolled": true
   },
   "outputs": [
    {
     "name": "stdout",
     "output_type": "stream",
     "text": [
      "ram hari sita gita rita "
     ]
    }
   ],
   "source": [
    "list = [\"ram\",\"hari\",\"sita\",\"gita\",\"rita\"] # as i i[0],i[1]\n",
    "for i in list:   # ->\n",
    "    print(i,end=\" \")"
   ]
  },
  {
   "cell_type": "markdown",
   "id": "9887b54e",
   "metadata": {},
   "source": []
  },
  {
   "cell_type": "code",
   "execution_count": 63,
   "id": "3aaf6d04",
   "metadata": {},
   "outputs": [
    {
     "name": "stdout",
     "output_type": "stream",
     "text": [
      "0 1 2 3 4 5 6 7 8 9 "
     ]
    }
   ],
   "source": [
    "# 1 2 3 ........ 10\n",
    "for i in range(10):\n",
    "    print(i , end=\" \")"
   ]
  },
  {
   "cell_type": "code",
   "execution_count": 69,
   "id": "57de09e2",
   "metadata": {},
   "outputs": [
    {
     "name": "stdout",
     "output_type": "stream",
     "text": [
      "10 12 14 16 18 "
     ]
    }
   ],
   "source": [
    "for i in range (10,20,2): # (starting,end,gap)\n",
    "    print(i,end = \" \")"
   ]
  },
  {
   "cell_type": "code",
   "execution_count": 80,
   "id": "2ffa036b",
   "metadata": {
    "scrolled": true
   },
   "outputs": [
    {
     "name": "stdout",
     "output_type": "stream",
     "text": [
      "10 9 8 7 6 5 4 3 2 1 "
     ]
    }
   ],
   "source": [
    "for i in range (10,0,-1):\n",
    "    print(i,end=\" \")"
   ]
  },
  {
   "cell_type": "code",
   "execution_count": 83,
   "id": "4c8b91a0",
   "metadata": {},
   "outputs": [
    {
     "name": "stdout",
     "output_type": "stream",
     "text": [
      "0 2 4 6 8 10 12 14 16 18 20 22 24 26 28 "
     ]
    }
   ],
   "source": [
    "for i in range (0,30,2):\n",
    "        print(i, end=\" \")\n",
    "    "
   ]
  },
  {
   "cell_type": "code",
   "execution_count": 89,
   "id": "f0737ec6",
   "metadata": {},
   "outputs": [
    {
     "name": "stdout",
     "output_type": "stream",
     "text": [
      "*\n",
      "*\n",
      "# *\n",
      "# *\n",
      "*\n",
      "# *\n",
      "# *\n",
      "# *\n",
      "# *\n",
      "*\n",
      "# *\n",
      "# *\n",
      "# *\n",
      "# *\n",
      "# *\n",
      "# *\n",
      "*\n",
      "# *\n",
      "# *\n",
      "# *\n",
      "# *\n",
      "# *\n",
      "# *\n",
      "# *\n",
      "# *\n"
     ]
    }
   ],
   "source": [
    "for i in range(10):\n",
    "    for j in range(0,i):\n",
    "        if j%2 ==0:\n",
    "            print(\"*\")\n",
    "        else:\n",
    "            print(\"#\" ,end =\" \")\n",
    "        "
   ]
  },
  {
   "cell_type": "code",
   "execution_count": 92,
   "id": "061712ce",
   "metadata": {},
   "outputs": [
    {
     "name": "stdout",
     "output_type": "stream",
     "text": [
      "1\n",
      "2\n",
      "3\n",
      "4\n",
      "5\n",
      "6\n",
      "7\n",
      "8\n",
      "9\n",
      "10\n"
     ]
    }
   ],
   "source": [
    "# while loop \n",
    "i = 0\n",
    "while i<10:\n",
    "    i+=1\n",
    "           # i= i+1 , i=i*2-> i*=2\n",
    "    print(i)\n",
    "    "
   ]
  },
  {
   "cell_type": "code",
   "execution_count": 94,
   "id": "148fd406",
   "metadata": {},
   "outputs": [
    {
     "name": "stdout",
     "output_type": "stream",
     "text": [
      "1 2 4 5 6 7 8 9 10 "
     ]
    }
   ],
   "source": [
    "i = 0\n",
    "while i < 10:\n",
    "    i=i+1\n",
    "    if i==3:\n",
    "        continue\n",
    "    print(i,end=\" \")"
   ]
  },
  {
   "cell_type": "code",
   "execution_count": 95,
   "id": "08cbb0ab",
   "metadata": {},
   "outputs": [
    {
     "name": "stdout",
     "output_type": "stream",
     "text": [
      "0\n",
      "1\n",
      "2\n",
      "3\n",
      "4\n",
      "i is no longer 5\n"
     ]
    }
   ],
   "source": [
    "i = 0\n",
    "while i<5:\n",
    "    print(i)\n",
    "    i+=1\n",
    "else:\n",
    "    print(\"i is no longer 5\")"
   ]
  },
  {
   "cell_type": "code",
   "execution_count": null,
   "id": "e34ddcb0",
   "metadata": {},
   "outputs": [],
   "source": []
  }
 ],
 "metadata": {
  "kernelspec": {
   "display_name": "Python 3 (ipykernel)",
   "language": "python",
   "name": "python3"
  },
  "language_info": {
   "codemirror_mode": {
    "name": "ipython",
    "version": 3
   },
   "file_extension": ".py",
   "mimetype": "text/x-python",
   "name": "python",
   "nbconvert_exporter": "python",
   "pygments_lexer": "ipython3",
   "version": "3.8.10"
  }
 },
 "nbformat": 4,
 "nbformat_minor": 5
}
